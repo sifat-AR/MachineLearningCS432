{
  "cells": [
    {
      "cell_type": "markdown",
      "metadata": {
        "id": "view-in-github",
        "colab_type": "text"
      },
      "source": [
        "<a href=\"https://colab.research.google.com/github/sifat-AR/MachineLearningCS432/blob/main/DataExploration.ipynb\" target=\"_parent\"><img src=\"https://colab.research.google.com/assets/colab-badge.svg\" alt=\"Open In Colab\"/></a>"
      ]
    },
    {
      "cell_type": "markdown",
      "id": "34778c4d",
      "metadata": {
        "id": "34778c4d"
      },
      "source": [
        "**Machine Learning Lab - CSE 432**"
      ]
    },
    {
      "cell_type": "markdown",
      "id": "8557d72c",
      "metadata": {
        "id": "8557d72c"
      },
      "source": [
        "# 2 Data Exploration with pandas"
      ]
    },
    {
      "cell_type": "markdown",
      "id": "4e22b84b",
      "metadata": {
        "id": "4e22b84b"
      },
      "source": [
        "**Pandas** is a software library written for the Python programming language for data manipulation and analysis. In particular, it offers data structures and operations for manipulating numerical tables and time series. It is free software released under the three-clause BSD license.\n",
        "\n",
        "In this lab, we will learn how to explore and manipulate data with the pandas library."
      ]
    },
    {
      "cell_type": "markdown",
      "id": "39a91f9b",
      "metadata": {
        "id": "39a91f9b"
      },
      "source": [
        "**2.1 Installing and Importing Pandas**"
      ]
    },
    {
      "cell_type": "markdown",
      "id": "adee6d0c",
      "metadata": {
        "id": "adee6d0c"
      },
      "source": [
        "The following command is used to install pandas to your python system. If pandas is already installed, there is no need to run this command."
      ]
    },
    {
      "cell_type": "code",
      "execution_count": null,
      "id": "fa990993",
      "metadata": {
        "id": "fa990993"
      },
      "outputs": [],
      "source": [
        "#!pip install pandas"
      ]
    },
    {
      "cell_type": "code",
      "execution_count": null,
      "id": "8162c267",
      "metadata": {
        "id": "8162c267"
      },
      "outputs": [],
      "source": [
        "import pandas as pd"
      ]
    },
    {
      "cell_type": "markdown",
      "id": "60b1e4b2",
      "metadata": {
        "id": "60b1e4b2"
      },
      "source": [
        "**2.2 Importing a data set**"
      ]
    },
    {
      "cell_type": "code",
      "source": [
        "from google.colab import drive\n",
        "drive.mount('/content/drive')"
      ],
      "metadata": {
        "id": "qV9j185Odb8p",
        "colab": {
          "base_uri": "https://localhost:8080/"
        },
        "outputId": "cb55dd94-0fb9-4fc1-f72f-be87e47e43d9"
      },
      "id": "qV9j185Odb8p",
      "execution_count": null,
      "outputs": [
        {
          "output_type": "stream",
          "name": "stdout",
          "text": [
            "Mounted at /content/drive\n"
          ]
        }
      ]
    },
    {
      "cell_type": "code",
      "execution_count": null,
      "id": "f8820455",
      "metadata": {
        "id": "f8820455"
      },
      "outputs": [],
      "source": [
        "df = pd.read_csv('/content/drive/MyDrive/COURSES/ML_CSE432_Lab/02 Data Exploration/titanic.csv')\n",
        "print(df)"
      ]
    },
    {
      "cell_type": "code",
      "execution_count": null,
      "id": "4914cc14",
      "metadata": {
        "id": "4914cc14"
      },
      "outputs": [],
      "source": [
        "df"
      ]
    },
    {
      "cell_type": "code",
      "execution_count": null,
      "id": "474de516",
      "metadata": {
        "id": "474de516"
      },
      "outputs": [],
      "source": [
        "pd.set_option('display.max_rows', None)\n",
        "df"
      ]
    },
    {
      "cell_type": "code",
      "execution_count": null,
      "id": "009cb940",
      "metadata": {
        "id": "009cb940"
      },
      "outputs": [],
      "source": [
        "pd.set_option('display.max_rows', 10)\n",
        "df"
      ]
    },
    {
      "cell_type": "markdown",
      "id": "89de87ef",
      "metadata": {
        "id": "89de87ef"
      },
      "source": [
        "**2.3 Viewing and Understanding Dataset**"
      ]
    },
    {
      "cell_type": "code",
      "execution_count": null,
      "id": "2ae7556d",
      "metadata": {
        "id": "2ae7556d"
      },
      "outputs": [],
      "source": [
        "df.head(10)"
      ]
    },
    {
      "cell_type": "code",
      "execution_count": null,
      "id": "ecf1e972",
      "metadata": {
        "id": "ecf1e972"
      },
      "outputs": [],
      "source": [
        "df.tail(5)"
      ]
    },
    {
      "cell_type": "code",
      "execution_count": null,
      "id": "1896731d",
      "metadata": {
        "id": "1896731d"
      },
      "outputs": [],
      "source": [
        "df.describe()"
      ]
    },
    {
      "cell_type": "code",
      "execution_count": null,
      "id": "8eaa68b7",
      "metadata": {
        "id": "8eaa68b7"
      },
      "outputs": [],
      "source": [
        "df.info()"
      ]
    },
    {
      "cell_type": "code",
      "execution_count": null,
      "id": "cb55f757",
      "metadata": {
        "id": "cb55f757"
      },
      "outputs": [],
      "source": [
        "df.shape"
      ]
    },
    {
      "cell_type": "code",
      "execution_count": null,
      "id": "4620f122",
      "metadata": {
        "id": "4620f122"
      },
      "outputs": [],
      "source": [
        "df.columns"
      ]
    },
    {
      "cell_type": "code",
      "execution_count": null,
      "id": "420213ef",
      "metadata": {
        "scrolled": true,
        "id": "420213ef"
      },
      "outputs": [],
      "source": [
        "df.isnull().sum()"
      ]
    },
    {
      "cell_type": "code",
      "execution_count": null,
      "id": "c157dad5",
      "metadata": {
        "id": "c157dad5"
      },
      "outputs": [],
      "source": [
        "df.nunique()"
      ]
    },
    {
      "cell_type": "markdown",
      "id": "0ed8e9ad",
      "metadata": {
        "id": "0ed8e9ad"
      },
      "source": [
        "**2.4 Slicing and Extracting Data**"
      ]
    },
    {
      "cell_type": "code",
      "execution_count": null,
      "id": "dae7b50a",
      "metadata": {
        "id": "dae7b50a"
      },
      "outputs": [],
      "source": [
        "# Isolating a single column\n",
        "df['name'].head()"
      ]
    },
    {
      "cell_type": "code",
      "execution_count": null,
      "id": "c5ff181a",
      "metadata": {
        "id": "c5ff181a"
      },
      "outputs": [],
      "source": [
        "# Isolating multiple columns\n",
        "df[['name', 'sex', 'age']].head()"
      ]
    },
    {
      "cell_type": "code",
      "execution_count": null,
      "id": "ebac928a",
      "metadata": {
        "scrolled": true,
        "id": "ebac928a"
      },
      "outputs": [],
      "source": [
        "# Isolating a single row\n",
        "df.loc[5]"
      ]
    },
    {
      "cell_type": "code",
      "execution_count": null,
      "id": "4b40140e",
      "metadata": {
        "id": "4b40140e"
      },
      "outputs": [],
      "source": [
        "# Isolating multiple rows with range\n",
        "df.loc[5:20]"
      ]
    },
    {
      "cell_type": "code",
      "execution_count": null,
      "id": "59f69b15",
      "metadata": {
        "id": "59f69b15"
      },
      "outputs": [],
      "source": [
        "# Isolating multiple rows with list\n",
        "df.loc[[1, 5, 10, 6]]"
      ]
    },
    {
      "cell_type": "code",
      "execution_count": null,
      "id": "24baa1ec",
      "metadata": {
        "id": "24baa1ec"
      },
      "outputs": [],
      "source": [
        "dft = df.loc[5:20].copy()\n",
        "dft.head()"
      ]
    },
    {
      "cell_type": "code",
      "execution_count": null,
      "id": "1432f313",
      "metadata": {
        "scrolled": true,
        "id": "1432f313"
      },
      "outputs": [],
      "source": [
        "try:\n",
        "    print(dft.loc[0])\n",
        "except:\n",
        "    print(\"There is an error\")"
      ]
    },
    {
      "cell_type": "code",
      "execution_count": null,
      "id": "e61d0c80",
      "metadata": {
        "id": "e61d0c80"
      },
      "outputs": [],
      "source": [
        "try:\n",
        "    print(dft.iloc[0])\n",
        "except:\n",
        "    print(\"There is an error\")"
      ]
    },
    {
      "cell_type": "code",
      "execution_count": null,
      "id": "abc3a960",
      "metadata": {
        "id": "abc3a960"
      },
      "outputs": [],
      "source": [
        "# Isolating both rows and columns with range\n",
        "# loc[] doesn't work with column range but iloc[] does\n",
        "df.iloc[0:20, 2:5].head()"
      ]
    },
    {
      "cell_type": "code",
      "execution_count": null,
      "id": "0a26f076",
      "metadata": {
        "id": "0a26f076"
      },
      "outputs": [],
      "source": [
        "# Isolating both rows and columns with column names in list\n",
        "# loc[] works but .iloc[] doesn't\n",
        "df.loc[0:20, ['name', 'sex', 'age']].head()"
      ]
    },
    {
      "cell_type": "code",
      "execution_count": null,
      "id": "2d5c55a4",
      "metadata": {
        "id": "2d5c55a4"
      },
      "outputs": [],
      "source": [
        "# That's how we change specific attribute of a single row\n",
        "dft.loc[5, 'name'] = 'Ratri'\n",
        "\n",
        "# Change these attributes\n",
        "dft.loc[5, 'sex'] = 'female'\n",
        "dft.loc[5, 'age'] = 26\n",
        "dft.loc[5, 'survived'] = 1\n",
        "dft.head()"
      ]
    },
    {
      "cell_type": "code",
      "execution_count": null,
      "id": "dbc4eb61",
      "metadata": {
        "id": "dbc4eb61"
      },
      "outputs": [],
      "source": [
        "# We can sort the data by an attribute\n",
        "dft.sort_values(by='age', ascending=True).head()"
      ]
    },
    {
      "cell_type": "markdown",
      "id": "cc97b442",
      "metadata": {
        "id": "cc97b442"
      },
      "source": [
        "**2.5 Slicing with Conditions**"
      ]
    },
    {
      "cell_type": "markdown",
      "id": "b18b6f93",
      "metadata": {
        "id": "b18b6f93"
      },
      "source": [
        "Pandas slicing with conditions is a technique to select a subset of data from a pandas DataFrame or Series based on some criteria. For example, we can use the loc or iloc methods to slice by index labels or positions, and combine them with boolean masks to filter by values. Alternatively, we can use the query method to write the conditions as a string expression (which we will not use here)."
      ]
    },
    {
      "cell_type": "code",
      "execution_count": null,
      "id": "27cc6de2",
      "metadata": {
        "id": "27cc6de2"
      },
      "outputs": [],
      "source": [
        "# Let's find the underage people in the data set\n",
        "df.loc[df['age']<18].head()"
      ]
    },
    {
      "cell_type": "code",
      "execution_count": null,
      "id": "d01b638d",
      "metadata": {
        "id": "d01b638d"
      },
      "outputs": [],
      "source": [
        "# Now let's find underage people who are also female\n",
        "df.loc[ (df['age']<20) & (df['sex']=='female')].head()"
      ]
    },
    {
      "cell_type": "markdown",
      "id": "a58624d0",
      "metadata": {
        "id": "a58624d0"
      },
      "source": [
        "**2.6 Cleaning Data**"
      ]
    },
    {
      "cell_type": "markdown",
      "id": "91bdac25",
      "metadata": {
        "id": "91bdac25"
      },
      "source": [
        "2.6.1 Dropping Missing Values"
      ]
    },
    {
      "cell_type": "code",
      "execution_count": null,
      "id": "124f91ee",
      "metadata": {
        "id": "124f91ee"
      },
      "outputs": [],
      "source": [
        "# We will copy the dataframe first in order to not change the original\n",
        "dft = df.copy()\n",
        "dft.head()"
      ]
    },
    {
      "cell_type": "code",
      "execution_count": null,
      "id": "0509c322",
      "metadata": {
        "id": "0509c322"
      },
      "outputs": [],
      "source": [
        "dft.isnull().sum()"
      ]
    },
    {
      "cell_type": "code",
      "execution_count": null,
      "id": "72e3dfa1",
      "metadata": {
        "id": "72e3dfa1"
      },
      "outputs": [],
      "source": [
        "# Droppping missing values\n",
        "dft = dft.dropna()\n",
        "dft.head()"
      ]
    },
    {
      "cell_type": "code",
      "execution_count": null,
      "id": "7de32807",
      "metadata": {
        "id": "7de32807"
      },
      "outputs": [],
      "source": [
        "dft = df.copy()\n",
        "dft = dft.dropna(axis=1)\n",
        "dft.head()"
      ]
    },
    {
      "cell_type": "markdown",
      "id": "07c13bb2",
      "metadata": {
        "id": "07c13bb2"
      },
      "source": [
        "2.6.2 Replacing Missing Values"
      ]
    },
    {
      "cell_type": "code",
      "execution_count": null,
      "id": "2bd2c698",
      "metadata": {
        "id": "2bd2c698"
      },
      "outputs": [],
      "source": [
        "dft = df.copy()\n",
        "dft.loc[dft['age'].isnull()].head()"
      ]
    },
    {
      "cell_type": "code",
      "execution_count": null,
      "id": "c2fecc7f",
      "metadata": {
        "id": "c2fecc7f"
      },
      "outputs": [],
      "source": [
        "# Get the mean of age\n",
        "mean_value = dft['age'].mean()\n",
        "# Fill missing values using .fillna()\n",
        "df5t = dft.fillna(mean_value)\n",
        "dft.loc[dft['age'].isnull()].head()"
      ]
    },
    {
      "cell_type": "code",
      "source": [
        "df5t.loc[dft['age'].isnull()].head()"
      ],
      "metadata": {
        "id": "vC9f7aHgB1be"
      },
      "id": "vC9f7aHgB1be",
      "execution_count": null,
      "outputs": []
    },
    {
      "cell_type": "markdown",
      "id": "9abda3e6",
      "metadata": {
        "id": "9abda3e6"
      },
      "source": [
        "2.6.3 Removing Duplicates"
      ]
    },
    {
      "cell_type": "code",
      "execution_count": null,
      "id": "294937bb",
      "metadata": {
        "id": "294937bb"
      },
      "outputs": [],
      "source": [
        "dft = df.copy()\n",
        "dft.head()"
      ]
    },
    {
      "cell_type": "code",
      "execution_count": null,
      "id": "2c7707d8",
      "metadata": {
        "id": "2c7707d8"
      },
      "outputs": [],
      "source": [
        "dft = dft.drop_duplicates()\n",
        "dft.head()"
      ]
    },
    {
      "cell_type": "markdown",
      "id": "92f9e276",
      "metadata": {
        "id": "92f9e276"
      },
      "source": [
        "**2.7 Manipulating Columns**"
      ]
    },
    {
      "cell_type": "code",
      "execution_count": null,
      "id": "20a6deff",
      "metadata": {
        "scrolled": true,
        "id": "20a6deff"
      },
      "outputs": [],
      "source": [
        "# We can rename a column using the rename() method\n",
        "dft = dft.rename(columns = {'home.dest':'destination'})\n",
        "dft.head()"
      ]
    },
    {
      "cell_type": "code",
      "execution_count": null,
      "id": "6055f170",
      "metadata": {
        "id": "6055f170"
      },
      "outputs": [],
      "source": [
        "# Now we will add a new column named baby\n",
        "# baby is a boolean value column (1 or 0)\n",
        "# It will show whether a passenger was a baby or not\n",
        "dft['baby'] = 1\n",
        "dft.loc[dft['age']>10, 'baby'] = 0\n",
        "dft.head()"
      ]
    },
    {
      "cell_type": "markdown",
      "id": "2e16d910",
      "metadata": {
        "id": "2e16d910"
      },
      "source": [
        "**2.8 Further Analysis**"
      ]
    },
    {
      "cell_type": "code",
      "execution_count": null,
      "id": "c012043c",
      "metadata": {
        "id": "c012043c"
      },
      "outputs": [],
      "source": [
        "# We can find mean, median, mode\n",
        "df['age'].mean()"
      ]
    },
    {
      "cell_type": "code",
      "execution_count": null,
      "id": "49a47c1d",
      "metadata": {
        "id": "49a47c1d"
      },
      "outputs": [],
      "source": [
        "# Find mean of age of females and males individually\n",
        "df.groupby('sex')['age'].mean()"
      ]
    },
    {
      "cell_type": "code",
      "execution_count": null,
      "id": "b4324914-8755-4bbe-8fb7-1c9c19645d03",
      "metadata": {
        "id": "b4324914-8755-4bbe-8fb7-1c9c19645d03"
      },
      "outputs": [],
      "source": []
    },
    {
      "cell_type": "code",
      "execution_count": null,
      "id": "f38f8a50-c713-46c0-a30a-1356dbb4c177",
      "metadata": {
        "id": "f38f8a50-c713-46c0-a30a-1356dbb4c177"
      },
      "outputs": [],
      "source": []
    }
  ],
  "metadata": {
    "kernelspec": {
      "display_name": "Python 3 (ipykernel)",
      "language": "python",
      "name": "python3"
    },
    "language_info": {
      "codemirror_mode": {
        "name": "ipython",
        "version": 3
      },
      "file_extension": ".py",
      "mimetype": "text/x-python",
      "name": "python",
      "nbconvert_exporter": "python",
      "pygments_lexer": "ipython3",
      "version": "3.10.13"
    },
    "colab": {
      "provenance": [],
      "include_colab_link": true
    }
  },
  "nbformat": 4,
  "nbformat_minor": 5
}